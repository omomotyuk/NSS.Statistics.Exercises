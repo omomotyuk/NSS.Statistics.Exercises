{
 "cells": [
  {
   "cell_type": "code",
   "execution_count": 4,
   "metadata": {},
   "outputs": [],
   "source": [
    "import pandas as pd\n",
    "import matplotlib.pyplot as plt\n",
    "import numpy as np\n",
    "%matplotlib inline"
   ]
  },
  {
   "cell_type": "code",
   "execution_count": 3,
   "metadata": {},
   "outputs": [
    {
     "data": {
      "text/html": [
       "<div>\n",
       "<style scoped>\n",
       "    .dataframe tbody tr th:only-of-type {\n",
       "        vertical-align: middle;\n",
       "    }\n",
       "\n",
       "    .dataframe tbody tr th {\n",
       "        vertical-align: top;\n",
       "    }\n",
       "\n",
       "    .dataframe thead th {\n",
       "        text-align: right;\n",
       "    }\n",
       "</style>\n",
       "<table border=\"1\" class=\"dataframe\">\n",
       "  <thead>\n",
       "    <tr style=\"text-align: right;\">\n",
       "      <th></th>\n",
       "      <th>branch</th>\n",
       "      <th>total_circulation</th>\n",
       "    </tr>\n",
       "  </thead>\n",
       "  <tbody>\n",
       "    <tr>\n",
       "      <th>0</th>\n",
       "      <td>Bellevue</td>\n",
       "      <td>497176</td>\n",
       "    </tr>\n",
       "    <tr>\n",
       "      <th>1</th>\n",
       "      <td>Bordeaux</td>\n",
       "      <td>87520</td>\n",
       "    </tr>\n",
       "    <tr>\n",
       "      <th>2</th>\n",
       "      <td>Donelson</td>\n",
       "      <td>124617</td>\n",
       "    </tr>\n",
       "    <tr>\n",
       "      <th>3</th>\n",
       "      <td>East</td>\n",
       "      <td>86525</td>\n",
       "    </tr>\n",
       "    <tr>\n",
       "      <th>4</th>\n",
       "      <td>Edgehill</td>\n",
       "      <td>46238</td>\n",
       "    </tr>\n",
       "    <tr>\n",
       "      <th>5</th>\n",
       "      <td>Edmondson Pike</td>\n",
       "      <td>461347</td>\n",
       "    </tr>\n",
       "    <tr>\n",
       "      <th>6</th>\n",
       "      <td>Goodlettsville</td>\n",
       "      <td>230408</td>\n",
       "    </tr>\n",
       "    <tr>\n",
       "      <th>7</th>\n",
       "      <td>Green Hills</td>\n",
       "      <td>596591</td>\n",
       "    </tr>\n",
       "    <tr>\n",
       "      <th>8</th>\n",
       "      <td>Hadley Park</td>\n",
       "      <td>29935</td>\n",
       "    </tr>\n",
       "    <tr>\n",
       "      <th>9</th>\n",
       "      <td>Hermitage</td>\n",
       "      <td>391493</td>\n",
       "    </tr>\n",
       "    <tr>\n",
       "      <th>10</th>\n",
       "      <td>Inglewood</td>\n",
       "      <td>159520</td>\n",
       "    </tr>\n",
       "    <tr>\n",
       "      <th>11</th>\n",
       "      <td>Looby</td>\n",
       "      <td>44528</td>\n",
       "    </tr>\n",
       "    <tr>\n",
       "      <th>12</th>\n",
       "      <td>Madison</td>\n",
       "      <td>5994</td>\n",
       "    </tr>\n",
       "    <tr>\n",
       "      <th>13</th>\n",
       "      <td>Main</td>\n",
       "      <td>709642</td>\n",
       "    </tr>\n",
       "    <tr>\n",
       "      <th>14</th>\n",
       "      <td>North</td>\n",
       "      <td>38421</td>\n",
       "    </tr>\n",
       "    <tr>\n",
       "      <th>15</th>\n",
       "      <td>Old Hickory</td>\n",
       "      <td>61102</td>\n",
       "    </tr>\n",
       "    <tr>\n",
       "      <th>16</th>\n",
       "      <td>Pruitt</td>\n",
       "      <td>20732</td>\n",
       "    </tr>\n",
       "    <tr>\n",
       "      <th>17</th>\n",
       "      <td>Richland Park</td>\n",
       "      <td>164692</td>\n",
       "    </tr>\n",
       "    <tr>\n",
       "      <th>18</th>\n",
       "      <td>Southeast</td>\n",
       "      <td>262464</td>\n",
       "    </tr>\n",
       "    <tr>\n",
       "      <th>19</th>\n",
       "      <td>Thompson Lane</td>\n",
       "      <td>116461</td>\n",
       "    </tr>\n",
       "    <tr>\n",
       "      <th>20</th>\n",
       "      <td>Watkins Park</td>\n",
       "      <td>19177</td>\n",
       "    </tr>\n",
       "  </tbody>\n",
       "</table>\n",
       "</div>"
      ],
      "text/plain": [
       "            branch  total_circulation\n",
       "0         Bellevue             497176\n",
       "1         Bordeaux              87520\n",
       "2         Donelson             124617\n",
       "3             East              86525\n",
       "4         Edgehill              46238\n",
       "5   Edmondson Pike             461347\n",
       "6   Goodlettsville             230408\n",
       "7      Green Hills             596591\n",
       "8      Hadley Park              29935\n",
       "9        Hermitage             391493\n",
       "10       Inglewood             159520\n",
       "11           Looby              44528\n",
       "12         Madison               5994\n",
       "13            Main             709642\n",
       "14           North              38421\n",
       "15     Old Hickory              61102\n",
       "16          Pruitt              20732\n",
       "17   Richland Park             164692\n",
       "18       Southeast             262464\n",
       "19   Thompson Lane             116461\n",
       "20    Watkins Park              19177"
      ]
     },
     "execution_count": 3,
     "metadata": {},
     "output_type": "execute_result"
    }
   ],
   "source": [
    "#\n",
    "# Part 1: Library Circulation\n",
    "#\n",
    "# Read in this file as a dataframe:\n",
    "circulation = pd.read_csv('../data/physical_circulation.csv')\n",
    "#circulation.head(3)\n",
    "circulation"
   ]
  },
  {
   "cell_type": "code",
   "execution_count": 4,
   "metadata": {},
   "outputs": [
    {
     "data": {
      "text/plain": [
       "197837.2857142857"
      ]
     },
     "execution_count": 4,
     "metadata": {},
     "output_type": "execute_result"
    }
   ],
   "source": [
    "# mean of circulation\n",
    "circulation['total_circulation'].mean()"
   ]
  },
  {
   "cell_type": "code",
   "execution_count": 5,
   "metadata": {},
   "outputs": [
    {
     "data": {
      "text/plain": [
       "116461.0"
      ]
     },
     "execution_count": 5,
     "metadata": {},
     "output_type": "execute_result"
    }
   ],
   "source": [
    "# median of circulation\n",
    "circulation['total_circulation'].median()"
   ]
  },
  {
   "cell_type": "code",
   "execution_count": 6,
   "metadata": {},
   "outputs": [
    {
     "data": {
      "text/plain": [
       "5994"
      ]
     },
     "execution_count": 6,
     "metadata": {},
     "output_type": "execute_result"
    }
   ],
   "source": [
    "# min of circulation\n",
    "circulation['total_circulation'].min()"
   ]
  },
  {
   "cell_type": "code",
   "execution_count": 7,
   "metadata": {},
   "outputs": [
    {
     "data": {
      "text/plain": [
       "709642"
      ]
     },
     "execution_count": 7,
     "metadata": {},
     "output_type": "execute_result"
    }
   ],
   "source": [
    "# max of circulation\n",
    "circulation['total_circulation'].max()"
   ]
  },
  {
   "cell_type": "code",
   "execution_count": 8,
   "metadata": {},
   "outputs": [
    {
     "data": {
      "text/plain": [
       "703648"
      ]
     },
     "execution_count": 8,
     "metadata": {},
     "output_type": "execute_result"
    }
   ],
   "source": [
    "# range of circulation\n",
    "circulation['total_circulation'].max() - circulation['total_circulation'].min()"
   ]
  },
  {
   "cell_type": "code",
   "execution_count": 9,
   "metadata": {},
   "outputs": [],
   "source": [
    "from scipy.stats import trim_mean"
   ]
  },
  {
   "cell_type": "code",
   "execution_count": 10,
   "metadata": {},
   "outputs": [
    {
     "data": {
      "text/plain": [
       "166069.35294117648"
      ]
     },
     "execution_count": 10,
     "metadata": {},
     "output_type": "execute_result"
    }
   ],
   "source": [
    "# the 10% trimmed mean\n",
    "trim_mean(circulation['total_circulation'], proportiontocut=0.1)"
   ]
  },
  {
   "cell_type": "code",
   "execution_count": 15,
   "metadata": {},
   "outputs": [],
   "source": [
    "from ipywidgets import interact, IntSlider, fixed\n",
    "from nssstats.plots import deviation_plot"
   ]
  },
  {
   "cell_type": "code",
   "execution_count": 13,
   "metadata": {},
   "outputs": [
    {
     "data": {
      "text/plain": [
       "41938907744.299324"
      ]
     },
     "execution_count": 13,
     "metadata": {},
     "output_type": "execute_result"
    }
   ],
   "source": [
    "# variance\n",
    "circulation['total_circulation'].var(ddof = 0)"
   ]
  },
  {
   "cell_type": "code",
   "execution_count": 14,
   "metadata": {},
   "outputs": [
    {
     "data": {
      "text/plain": [
       "204789.91123661175"
      ]
     },
     "execution_count": 14,
     "metadata": {},
     "output_type": "execute_result"
    }
   ],
   "source": [
    "# standard deviation\n",
    "circulation['total_circulation'].std(ddof = 0)"
   ]
  },
  {
   "cell_type": "code",
   "execution_count": 15,
   "metadata": {},
   "outputs": [
    {
     "data": {
      "text/plain": [
       "44528.0"
      ]
     },
     "execution_count": 15,
     "metadata": {},
     "output_type": "execute_result"
    }
   ],
   "source": [
    "#\n",
    "circulation['total_circulation'].quantile(q = 0.25)"
   ]
  },
  {
   "cell_type": "code",
   "execution_count": 16,
   "metadata": {},
   "outputs": [
    {
     "data": {
      "text/plain": [
       "262464.0"
      ]
     },
     "execution_count": 16,
     "metadata": {},
     "output_type": "execute_result"
    }
   ],
   "source": [
    "#\n",
    "circulation['total_circulation'].quantile(q = 0.75)"
   ]
  },
  {
   "cell_type": "code",
   "execution_count": 17,
   "metadata": {},
   "outputs": [
    {
     "data": {
      "text/plain": [
       "217936.0"
      ]
     },
     "execution_count": 17,
     "metadata": {},
     "output_type": "execute_result"
    }
   ],
   "source": [
    "#\n",
    "circulation['total_circulation'].quantile(q = 0.75) - circulation['total_circulation'].quantile(q = 0.25)"
   ]
  },
  {
   "cell_type": "code",
   "execution_count": 18,
   "metadata": {},
   "outputs": [
    {
     "data": {
      "image/png": "[encoded data removed]",
      "text/plain": [
       "<Figure size 432x288 with 1 Axes>"
      ]
     },
     "metadata": {
      "needs_background": "light"
     },
     "output_type": "display_data"
    }
   ],
   "source": [
    "#\n",
    "#\n",
    "#\n",
    "circulation['total_circulation'].hist()\n",
    "plt.xlabel('total_circulation')\n",
    "plt.ylabel('count')\n",
    "plt.title('Histogram of Libraries Total Circulation');"
   ]
  },
  {
   "cell_type": "code",
   "execution_count": 1,
   "metadata": {},
   "outputs": [],
   "source": [
    "#\n",
    "#\n",
    "#"
   ]
  },
  {
   "cell_type": "code",
   "execution_count": 2,
   "metadata": {},
   "outputs": [],
   "source": [
    "#\n",
    "# Part 2: Metro Government Salaries\n",
    "#"
   ]
  },
  {
   "cell_type": "code",
   "execution_count": 5,
   "metadata": {},
   "outputs": [],
   "source": [
    "# reading data file\n",
    "salaries = pd.read_csv('../data/General_Government_Employees_Titles_and_Base_Annual_Salaries.csv')"
   ]
  },
  {
   "cell_type": "code",
   "execution_count": 6,
   "metadata": {},
   "outputs": [
    {
     "data": {
      "text/html": [
       "<div>\n",
       "<style scoped>\n",
       "    .dataframe tbody tr th:only-of-type {\n",
       "        vertical-align: middle;\n",
       "    }\n",
       "\n",
       "    .dataframe tbody tr th {\n",
       "        vertical-align: top;\n",
       "    }\n",
       "\n",
       "    .dataframe thead th {\n",
       "        text-align: right;\n",
       "    }\n",
       "</style>\n",
       "<table border=\"1\" class=\"dataframe\">\n",
       "  <thead>\n",
       "    <tr style=\"text-align: right;\">\n",
       "      <th></th>\n",
       "      <th>Name</th>\n",
       "      <th>Title</th>\n",
       "      <th>Department</th>\n",
       "      <th>Employment Status</th>\n",
       "      <th>Annual</th>\n",
       "    </tr>\n",
       "  </thead>\n",
       "  <tbody>\n",
       "    <tr>\n",
       "      <th>0</th>\n",
       "      <td>Aaron, Donald W. Jr</td>\n",
       "      <td>Assoc Admin-Police &amp; Fire</td>\n",
       "      <td>Police</td>\n",
       "      <td>Fulltime</td>\n",
       "      <td>160452.89</td>\n",
       "    </tr>\n",
       "    <tr>\n",
       "      <th>1</th>\n",
       "      <td>Abbady, Khalid Jr</td>\n",
       "      <td>Police Officer 2</td>\n",
       "      <td>Police</td>\n",
       "      <td>Fulltime</td>\n",
       "      <td>56478.93</td>\n",
       "    </tr>\n",
       "    <tr>\n",
       "      <th>2</th>\n",
       "      <td>Anderson, Brandon M</td>\n",
       "      <td>Correctional Officer 1</td>\n",
       "      <td>Sheriff</td>\n",
       "      <td>Fulltime</td>\n",
       "      <td>40542.65</td>\n",
       "    </tr>\n",
       "    <tr>\n",
       "      <th>3</th>\n",
       "      <td>Anderson, Brian Joseph</td>\n",
       "      <td>Police Lieutenant</td>\n",
       "      <td>Police</td>\n",
       "      <td>Fulltime</td>\n",
       "      <td>87957.57</td>\n",
       "    </tr>\n",
       "    <tr>\n",
       "      <th>4</th>\n",
       "      <td>Anderson, Carlos A.</td>\n",
       "      <td>Police Sergeant</td>\n",
       "      <td>Police</td>\n",
       "      <td>Fulltime</td>\n",
       "      <td>87073.74</td>\n",
       "    </tr>\n",
       "    <tr>\n",
       "      <th>...</th>\n",
       "      <td>...</td>\n",
       "      <td>...</td>\n",
       "      <td>...</td>\n",
       "      <td>...</td>\n",
       "      <td>...</td>\n",
       "    </tr>\n",
       "    <tr>\n",
       "      <th>9533</th>\n",
       "      <td>Zoccola, Alison M.</td>\n",
       "      <td>Domestic Vio Victim Adv-MO</td>\n",
       "      <td>Office of Family Safety</td>\n",
       "      <td>Fulltime</td>\n",
       "      <td>45320.00</td>\n",
       "    </tr>\n",
       "    <tr>\n",
       "      <th>9534</th>\n",
       "      <td>Zoccola, David L.</td>\n",
       "      <td>Criminal Investigator</td>\n",
       "      <td>District Attorney</td>\n",
       "      <td>Parttime</td>\n",
       "      <td>10251.11</td>\n",
       "    </tr>\n",
       "    <tr>\n",
       "      <th>9535</th>\n",
       "      <td>Zuhlke, Matthew L</td>\n",
       "      <td>Correctional Officer 1</td>\n",
       "      <td>Sheriff</td>\n",
       "      <td>Fulltime</td>\n",
       "      <td>40542.65</td>\n",
       "    </tr>\n",
       "    <tr>\n",
       "      <th>9536</th>\n",
       "      <td>Zullo, Brian M</td>\n",
       "      <td>Police Officer 2</td>\n",
       "      <td>Police</td>\n",
       "      <td>Fulltime</td>\n",
       "      <td>54818.21</td>\n",
       "    </tr>\n",
       "    <tr>\n",
       "      <th>9537</th>\n",
       "      <td>Zunic, Destiny Kayla</td>\n",
       "      <td>Police Officer 2</td>\n",
       "      <td>Police</td>\n",
       "      <td>Fulltime</td>\n",
       "      <td>54586.57</td>\n",
       "    </tr>\n",
       "  </tbody>\n",
       "</table>\n",
       "<p>9538 rows × 5 columns</p>\n",
       "</div>"
      ],
      "text/plain": [
       "                        Name                       Title  \\\n",
       "0        Aaron, Donald W. Jr   Assoc Admin-Police & Fire   \n",
       "1          Abbady, Khalid Jr            Police Officer 2   \n",
       "2        Anderson, Brandon M      Correctional Officer 1   \n",
       "3     Anderson, Brian Joseph           Police Lieutenant   \n",
       "4        Anderson, Carlos A.             Police Sergeant   \n",
       "...                      ...                         ...   \n",
       "9533      Zoccola, Alison M.  Domestic Vio Victim Adv-MO   \n",
       "9534       Zoccola, David L.       Criminal Investigator   \n",
       "9535       Zuhlke, Matthew L      Correctional Officer 1   \n",
       "9536          Zullo, Brian M            Police Officer 2   \n",
       "9537    Zunic, Destiny Kayla            Police Officer 2   \n",
       "\n",
       "                   Department Employment Status     Annual  \n",
       "0                      Police          Fulltime  160452.89  \n",
       "1                      Police          Fulltime   56478.93  \n",
       "2                     Sheriff          Fulltime   40542.65  \n",
       "3                      Police          Fulltime   87957.57  \n",
       "4                      Police          Fulltime   87073.74  \n",
       "...                       ...               ...        ...  \n",
       "9533  Office of Family Safety          Fulltime   45320.00  \n",
       "9534        District Attorney          Parttime   10251.11  \n",
       "9535                  Sheriff          Fulltime   40542.65  \n",
       "9536                   Police          Fulltime   54818.21  \n",
       "9537                   Police          Fulltime   54586.57  \n",
       "\n",
       "[9538 rows x 5 columns]"
      ]
     },
     "execution_count": 6,
     "metadata": {},
     "output_type": "execute_result"
    }
   ],
   "source": [
    "#\n",
    "salaries"
   ]
  },
  {
   "cell_type": "code",
   "execution_count": 7,
   "metadata": {},
   "outputs": [
    {
     "data": {
      "text/plain": [
       "56091.10348859438"
      ]
     },
     "execution_count": 7,
     "metadata": {},
     "output_type": "execute_result"
    }
   ],
   "source": [
    "#\n",
    "salaries.Annual.mean()"
   ]
  },
  {
   "cell_type": "code",
   "execution_count": 8,
   "metadata": {},
   "outputs": [
    {
     "data": {
      "text/plain": [
       "53054.5"
      ]
     },
     "execution_count": 8,
     "metadata": {},
     "output_type": "execute_result"
    }
   ],
   "source": [
    "# \n",
    "salaries.Annual.median()"
   ]
  },
  {
   "cell_type": "code",
   "execution_count": 11,
   "metadata": {},
   "outputs": [
    {
     "data": {
      "image/png": "[encoded data removed]",
      "text/plain": [
       "<Figure size 432x288 with 1 Axes>"
      ]
     },
     "metadata": {
      "needs_background": "light"
     },
     "output_type": "display_data"
    }
   ],
   "source": [
    "#\n",
    "#\n",
    "#\n",
    "salaries['Annual'].hist(bins = 25)\n",
    "plt.xlabel('Annual')\n",
    "plt.ylabel('count')\n",
    "plt.title('Histogram of Annual salaries');"
   ]
  },
  {
   "cell_type": "code",
   "execution_count": 12,
   "metadata": {},
   "outputs": [],
   "source": [
    "import seaborn as sns"
   ]
  },
  {
   "cell_type": "code",
   "execution_count": 14,
   "metadata": {},
   "outputs": [
    {
     "data": {
      "image/png": "[encoded data removed]",
      "text/plain": [
       "<Figure size 432x288 with 1 Axes>"
      ]
     },
     "metadata": {
      "needs_background": "light"
     },
     "output_type": "display_data"
    }
   ],
   "source": [
    "#\n",
    "sns.boxplot(salaries['Annual']);"
   ]
  },
  {
   "cell_type": "code",
   "execution_count": 16,
   "metadata": {},
   "outputs": [
    {
     "data": {
      "text/plain": [
       "24058.631056795053"
      ]
     },
     "execution_count": 16,
     "metadata": {},
     "output_type": "execute_result"
    }
   ],
   "source": [
    "#\n",
    "salaries['Annual'].std(ddof = 0)"
   ]
  },
  {
   "cell_type": "code",
   "execution_count": null,
   "metadata": {},
   "outputs": [],
   "source": []
  }
 ],
 "metadata": {
  "kernelspec": {
   "display_name": "Python 3",
   "language": "python",
   "name": "python3"
  },
  "language_info": {
   "codemirror_mode": {
    "name": "ipython",
    "version": 3
   },
   "file_extension": ".py",
   "mimetype": "text/x-python",
   "name": "python",
   "nbconvert_exporter": "python",
   "pygments_lexer": "ipython3",
   "version": "3.7.6"
  }
 },
 "nbformat": 4,
 "nbformat_minor": 4
}
