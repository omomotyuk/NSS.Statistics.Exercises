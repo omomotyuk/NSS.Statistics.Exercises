{
 "cells": [
  {
   "cell_type": "code",
   "execution_count": 1,
   "metadata": {},
   "outputs": [],
   "source": [
    "import pandas as pd\n",
    "import nssstats"
   ]
  },
  {
   "cell_type": "code",
   "execution_count": 2,
   "metadata": {},
   "outputs": [
    {
     "data": {
      "text/html": [
       "<div>\n",
       "<style scoped>\n",
       "    .dataframe tbody tr th:only-of-type {\n",
       "        vertical-align: middle;\n",
       "    }\n",
       "\n",
       "    .dataframe tbody tr th {\n",
       "        vertical-align: top;\n",
       "    }\n",
       "\n",
       "    .dataframe thead th {\n",
       "        text-align: right;\n",
       "    }\n",
       "</style>\n",
       "<table border=\"1\" class=\"dataframe\">\n",
       "  <thead>\n",
       "    <tr style=\"text-align: right;\">\n",
       "      <th></th>\n",
       "      <th>council_district</th>\n",
       "      <th>total_appr</th>\n",
       "      <th>finished_area</th>\n",
       "      <th>year</th>\n",
       "    </tr>\n",
       "  </thead>\n",
       "  <tbody>\n",
       "    <tr>\n",
       "      <th>0</th>\n",
       "      <td>21</td>\n",
       "      <td>99600.0</td>\n",
       "      <td>1199.0</td>\n",
       "      <td>2017</td>\n",
       "    </tr>\n",
       "    <tr>\n",
       "      <th>1</th>\n",
       "      <td>29</td>\n",
       "      <td>75600.0</td>\n",
       "      <td>1278.0</td>\n",
       "      <td>2017</td>\n",
       "    </tr>\n",
       "    <tr>\n",
       "      <th>2</th>\n",
       "      <td>6</td>\n",
       "      <td>416300.0</td>\n",
       "      <td>1984.5</td>\n",
       "      <td>2017</td>\n",
       "    </tr>\n",
       "  </tbody>\n",
       "</table>\n",
       "</div>"
      ],
      "text/plain": [
       "   council_district  total_appr  finished_area  year\n",
       "0                21     99600.0         1199.0  2017\n",
       "1                29     75600.0         1278.0  2017\n",
       "2                 6    416300.0         1984.5  2017"
      ]
     },
     "execution_count": 2,
     "metadata": {},
     "output_type": "execute_result"
    }
   ],
   "source": [
    "appraisal = pd.read_csv('../data/appraisal_2017.csv')\n",
    "appraisal.head(3)"
   ]
  },
  {
   "cell_type": "code",
   "execution_count": 3,
   "metadata": {},
   "outputs": [],
   "source": [
    "import matplotlib.pyplot as plt\n",
    "%matplotlib inline"
   ]
  },
  {
   "cell_type": "code",
   "execution_count": 4,
   "metadata": {},
   "outputs": [
    {
     "data": {
      "image/png": "[encoded data removed]",
      "text/plain": [
       "<Figure size 432x288 with 1 Axes>"
      ]
     },
     "metadata": {
      "needs_background": "light"
     },
     "output_type": "display_data"
    }
   ],
   "source": [
    "# Part 1\n",
    "#\n",
    "# 1.1\n",
    "#\n",
    "appraisal.plot(kind = 'scatter', x = 'finished_area', y = 'total_appr')\n",
    "plt.title('total_appr vs finished_area');"
   ]
  },
  {
   "cell_type": "code",
   "execution_count": 5,
   "metadata": {},
   "outputs": [],
   "source": [
    "# 1.2\n",
    "# By inspecting the scatterplot, describe the relationship between total_appr and finished_area. Is the\n",
    "# direction of association positive or negative? Is the relationship linear? How strong is the relationship?\n",
    "#"
   ]
  },
  {
   "cell_type": "code",
   "execution_count": 10,
   "metadata": {},
   "outputs": [
    {
     "data": {
      "text/html": [
       "<div>\n",
       "<style scoped>\n",
       "    .dataframe tbody tr th:only-of-type {\n",
       "        vertical-align: middle;\n",
       "    }\n",
       "\n",
       "    .dataframe tbody tr th {\n",
       "        vertical-align: top;\n",
       "    }\n",
       "\n",
       "    .dataframe thead th {\n",
       "        text-align: right;\n",
       "    }\n",
       "</style>\n",
       "<table border=\"1\" class=\"dataframe\">\n",
       "  <thead>\n",
       "    <tr style=\"text-align: right;\">\n",
       "      <th></th>\n",
       "      <th>council_district</th>\n",
       "      <th>total_appr</th>\n",
       "      <th>finished_area</th>\n",
       "      <th>year</th>\n",
       "    </tr>\n",
       "  </thead>\n",
       "  <tbody>\n",
       "    <tr>\n",
       "      <th>118</th>\n",
       "      <td>34</td>\n",
       "      <td>2340200.0</td>\n",
       "      <td>8959.01465</td>\n",
       "      <td>2017</td>\n",
       "    </tr>\n",
       "    <tr>\n",
       "      <th>456</th>\n",
       "      <td>34</td>\n",
       "      <td>1344700.0</td>\n",
       "      <td>8107.50000</td>\n",
       "      <td>2017</td>\n",
       "    </tr>\n",
       "    <tr>\n",
       "      <th>918</th>\n",
       "      <td>34</td>\n",
       "      <td>2729000.0</td>\n",
       "      <td>10161.79980</td>\n",
       "      <td>2017</td>\n",
       "    </tr>\n",
       "    <tr>\n",
       "      <th>954</th>\n",
       "      <td>25</td>\n",
       "      <td>2365400.0</td>\n",
       "      <td>8020.25000</td>\n",
       "      <td>2017</td>\n",
       "    </tr>\n",
       "  </tbody>\n",
       "</table>\n",
       "</div>"
      ],
      "text/plain": [
       "     council_district  total_appr  finished_area  year\n",
       "118                34   2340200.0     8959.01465  2017\n",
       "456                34   1344700.0     8107.50000  2017\n",
       "918                34   2729000.0    10161.79980  2017\n",
       "954                25   2365400.0     8020.25000  2017"
      ]
     },
     "execution_count": 10,
     "metadata": {},
     "output_type": "execute_result"
    }
   ],
   "source": [
    "# 1.3\n",
    "# Do you see any points which might be considered outliers? Investigate those points.\n",
    "#\n",
    "appraisal[(appraisal['finished_area'] > 8000) & (appraisal['total_appr'] > 1250000)]"
   ]
  },
  {
   "cell_type": "code",
   "execution_count": 6,
   "metadata": {},
   "outputs": [],
   "source": [
    "import numpy as np"
   ]
  },
  {
   "cell_type": "code",
   "execution_count": 7,
   "metadata": {},
   "outputs": [
    {
     "data": {
      "text/plain": [
       "array([[9.28867453e+05, 1.83105455e+08],\n",
       "       [1.83105455e+08, 5.31886099e+10]])"
      ]
     },
     "execution_count": 7,
     "metadata": {},
     "output_type": "execute_result"
    }
   ],
   "source": [
    "# 1.4\n",
    "#\n",
    "np.cov(appraisal['finished_area'], appraisal['total_appr'])"
   ]
  },
  {
   "cell_type": "code",
   "execution_count": 35,
   "metadata": {},
   "outputs": [
    {
     "data": {
      "text/plain": [
       "array([[1.       , 0.8237873],\n",
       "       [0.8237873, 1.       ]])"
      ]
     },
     "execution_count": 35,
     "metadata": {},
     "output_type": "execute_result"
    }
   ],
   "source": [
    "np.corrcoef(appraisal.finished_area, appraisal.total_appr)"
   ]
  },
  {
   "cell_type": "code",
   "execution_count": 8,
   "metadata": {},
   "outputs": [],
   "source": [
    "from nssstats.plots import quadrant_plot, half_plot"
   ]
  },
  {
   "cell_type": "code",
   "execution_count": 9,
   "metadata": {},
   "outputs": [
    {
     "data": {
      "image/png": "[encoded data removed]",
      "text/plain": [
       "<Figure size 576x432 with 1 Axes>"
      ]
     },
     "metadata": {
      "needs_background": "light"
     },
     "output_type": "display_data"
    }
   ],
   "source": [
    "quadrant_plot(appraisal.finished_area, appraisal.total_appr, labels = ['finished_area', 'total_appr'])"
   ]
  },
  {
   "cell_type": "code",
   "execution_count": 11,
   "metadata": {},
   "outputs": [
    {
     "data": {
      "text/html": [
       "<div>\n",
       "<style scoped>\n",
       "    .dataframe tbody tr th:only-of-type {\n",
       "        vertical-align: middle;\n",
       "    }\n",
       "\n",
       "    .dataframe tbody tr th {\n",
       "        vertical-align: top;\n",
       "    }\n",
       "\n",
       "    .dataframe thead th {\n",
       "        text-align: right;\n",
       "    }\n",
       "</style>\n",
       "<table border=\"1\" class=\"dataframe\">\n",
       "  <thead>\n",
       "    <tr style=\"text-align: right;\">\n",
       "      <th></th>\n",
       "      <th>Accident Number</th>\n",
       "      <th>Date and Time</th>\n",
       "      <th>Number of Injuries</th>\n",
       "      <th>Hit and Run</th>\n",
       "      <th>Collision Type Description</th>\n",
       "    </tr>\n",
       "  </thead>\n",
       "  <tbody>\n",
       "    <tr>\n",
       "      <th>0</th>\n",
       "      <td>20181075301</td>\n",
       "      <td>12/31/2018 10:55:00 PM</td>\n",
       "      <td>1</td>\n",
       "      <td>Y</td>\n",
       "      <td>Front to Rear</td>\n",
       "    </tr>\n",
       "    <tr>\n",
       "      <th>1</th>\n",
       "      <td>20181075381</td>\n",
       "      <td>12/31/2018 10:20:00 PM</td>\n",
       "      <td>0</td>\n",
       "      <td>Y</td>\n",
       "      <td>SIDESWIPE - SAME DIRECTION</td>\n",
       "    </tr>\n",
       "    <tr>\n",
       "      <th>2</th>\n",
       "      <td>20181075388</td>\n",
       "      <td>12/31/2018 09:50:00 PM</td>\n",
       "      <td>0</td>\n",
       "      <td>Y</td>\n",
       "      <td>HEAD-ON</td>\n",
       "    </tr>\n",
       "  </tbody>\n",
       "</table>\n",
       "</div>"
      ],
      "text/plain": [
       "   Accident Number           Date and Time  Number of Injuries Hit and Run  \\\n",
       "0      20181075301  12/31/2018 10:55:00 PM                   1           Y   \n",
       "1      20181075381  12/31/2018 10:20:00 PM                   0           Y   \n",
       "2      20181075388  12/31/2018 09:50:00 PM                   0           Y   \n",
       "\n",
       "   Collision Type Description  \n",
       "0               Front to Rear  \n",
       "1  SIDESWIPE - SAME DIRECTION  \n",
       "2                     HEAD-ON  "
      ]
     },
     "execution_count": 11,
     "metadata": {},
     "output_type": "execute_result"
    }
   ],
   "source": [
    "# Part 2\n",
    "# \n",
    "# Read this dataset into a dataframe named crashes\n",
    "#\n",
    "crashes = pd.read_csv('../data/crashes_subset.csv')\n",
    "crashes.head(3)"
   ]
  },
  {
   "cell_type": "code",
   "execution_count": 15,
   "metadata": {},
   "outputs": [
    {
     "data": {
      "text/html": [
       "<div>\n",
       "<style scoped>\n",
       "    .dataframe tbody tr th:only-of-type {\n",
       "        vertical-align: middle;\n",
       "    }\n",
       "\n",
       "    .dataframe tbody tr th {\n",
       "        vertical-align: top;\n",
       "    }\n",
       "\n",
       "    .dataframe thead th {\n",
       "        text-align: right;\n",
       "    }\n",
       "</style>\n",
       "<table border=\"1\" class=\"dataframe\">\n",
       "  <thead>\n",
       "    <tr style=\"text-align: right;\">\n",
       "      <th></th>\n",
       "      <th>Accident Number</th>\n",
       "      <th>Date and Time</th>\n",
       "      <th>Number of Injuries</th>\n",
       "      <th>Hit and Run</th>\n",
       "    </tr>\n",
       "    <tr>\n",
       "      <th>Collision Type Description</th>\n",
       "      <th></th>\n",
       "      <th></th>\n",
       "      <th></th>\n",
       "      <th></th>\n",
       "    </tr>\n",
       "  </thead>\n",
       "  <tbody>\n",
       "    <tr>\n",
       "      <th>Front to Rear</th>\n",
       "      <td>12903</td>\n",
       "      <td>12903</td>\n",
       "      <td>12903</td>\n",
       "      <td>12903</td>\n",
       "    </tr>\n",
       "    <tr>\n",
       "      <th>HEAD-ON</th>\n",
       "      <td>741</td>\n",
       "      <td>741</td>\n",
       "      <td>741</td>\n",
       "      <td>741</td>\n",
       "    </tr>\n",
       "    <tr>\n",
       "      <th>SIDESWIPE - SAME DIRECTION</th>\n",
       "      <td>5151</td>\n",
       "      <td>5151</td>\n",
       "      <td>5151</td>\n",
       "      <td>5151</td>\n",
       "    </tr>\n",
       "  </tbody>\n",
       "</table>\n",
       "</div>"
      ],
      "text/plain": [
       "                            Accident Number  Date and Time  \\\n",
       "Collision Type Description                                   \n",
       "Front to Rear                         12903          12903   \n",
       "HEAD-ON                                 741            741   \n",
       "SIDESWIPE - SAME DIRECTION             5151           5151   \n",
       "\n",
       "                            Number of Injuries  Hit and Run  \n",
       "Collision Type Description                                   \n",
       "Front to Rear                            12903        12903  \n",
       "HEAD-ON                                    741          741  \n",
       "SIDESWIPE - SAME DIRECTION                5151         5151  "
      ]
     },
     "execution_count": 15,
     "metadata": {},
     "output_type": "execute_result"
    }
   ],
   "source": [
    "# 2.1 Find the count of crashes by collision type. Create a bar plot showing the this count.\n",
    "#\n",
    "crashes.groupby('Collision Type Description').count()"
   ]
  },
  {
   "cell_type": "code",
   "execution_count": 18,
   "metadata": {},
   "outputs": [
    {
     "data": {
      "image/png": "[encoded data removed]",
      "text/plain": [
       "<Figure size 432x288 with 1 Axes>"
      ]
     },
     "metadata": {
      "needs_background": "light"
     },
     "output_type": "display_data"
    }
   ],
   "source": [
    "# 2.2 Create a boxplot showing number of injuries vs collision type description. What do you notice?\n",
    "#\n",
    "crashes.groupby('Collision Type Description')['Number of Injuries'].sum().plot(kind = 'bar')\n",
    "plt.title('Number of Injuries vs Collision Type Description')\n",
    "plt.ylabel('Count');"
   ]
  },
  {
   "cell_type": "code",
   "execution_count": 21,
   "metadata": {},
   "outputs": [],
   "source": [
    "import seaborn as sns"
   ]
  },
  {
   "cell_type": "code",
   "execution_count": 23,
   "metadata": {},
   "outputs": [
    {
     "data": {
      "image/png": "[encoded data removed]",
      "text/plain": [
       "<Figure size 432x288 with 1 Axes>"
      ]
     },
     "metadata": {
      "needs_background": "light"
     },
     "output_type": "display_data"
    }
   ],
   "source": [
    "sns.boxplot(data = crashes, x = 'Collision Type Description', y = 'Number of Injuries');"
   ]
  },
  {
   "cell_type": "code",
   "execution_count": 24,
   "metadata": {},
   "outputs": [
    {
     "data": {
      "image/png": "[encoded data removed]",
      "text/plain": [
       "<Figure size 432x288 with 1 Axes>"
      ]
     },
     "metadata": {
      "needs_background": "light"
     },
     "output_type": "display_data"
    }
   ],
   "source": [
    "# 2.3 Find the average number of injuries per crash by collision type. Which type of crash has the highest\n",
    "# average number of injuries. Create a box plot to show the distribution of injuries by collision type.\n",
    "#\n",
    "crashes.groupby('Collision Type Description')['Number of Injuries'].mean().plot(kind = 'bar')\n",
    "plt.title('Mean Number of Injuries per Collision Type Description')\n",
    "plt.ylabel('Number of Injuries');"
   ]
  },
  {
   "cell_type": "code",
   "execution_count": 25,
   "metadata": {},
   "outputs": [
    {
     "data": {
      "text/html": [
       "<div>\n",
       "<style scoped>\n",
       "    .dataframe tbody tr th:only-of-type {\n",
       "        vertical-align: middle;\n",
       "    }\n",
       "\n",
       "    .dataframe tbody tr th {\n",
       "        vertical-align: top;\n",
       "    }\n",
       "\n",
       "    .dataframe thead th {\n",
       "        text-align: right;\n",
       "    }\n",
       "</style>\n",
       "<table border=\"1\" class=\"dataframe\">\n",
       "  <thead>\n",
       "    <tr style=\"text-align: right;\">\n",
       "      <th>Collision Type Description</th>\n",
       "      <th>Front to Rear</th>\n",
       "      <th>HEAD-ON</th>\n",
       "      <th>SIDESWIPE - SAME DIRECTION</th>\n",
       "    </tr>\n",
       "    <tr>\n",
       "      <th>Hit and Run</th>\n",
       "      <th></th>\n",
       "      <th></th>\n",
       "      <th></th>\n",
       "    </tr>\n",
       "  </thead>\n",
       "  <tbody>\n",
       "    <tr>\n",
       "      <th>N</th>\n",
       "      <td>10361</td>\n",
       "      <td>608</td>\n",
       "      <td>3507</td>\n",
       "    </tr>\n",
       "    <tr>\n",
       "      <th>Y</th>\n",
       "      <td>2542</td>\n",
       "      <td>133</td>\n",
       "      <td>1644</td>\n",
       "    </tr>\n",
       "  </tbody>\n",
       "</table>\n",
       "</div>"
      ],
      "text/plain": [
       "Collision Type Description  Front to Rear  HEAD-ON  SIDESWIPE - SAME DIRECTION\n",
       "Hit and Run                                                                   \n",
       "N                                   10361      608                        3507\n",
       "Y                                    2542      133                        1644"
      ]
     },
     "execution_count": 25,
     "metadata": {},
     "output_type": "execute_result"
    }
   ],
   "source": [
    "# 2.4 Compare the rate of hit and run crashes by category. Create a bar plot to show what you find. What\n",
    "# do you notice?\n",
    "#\n",
    "pd.crosstab(crashes['Hit and Run'], crashes['Collision Type Description'])"
   ]
  },
  {
   "cell_type": "code",
   "execution_count": 26,
   "metadata": {},
   "outputs": [
    {
     "data": {
      "text/html": [
       "<div>\n",
       "<style scoped>\n",
       "    .dataframe tbody tr th:only-of-type {\n",
       "        vertical-align: middle;\n",
       "    }\n",
       "\n",
       "    .dataframe tbody tr th {\n",
       "        vertical-align: top;\n",
       "    }\n",
       "\n",
       "    .dataframe thead th {\n",
       "        text-align: right;\n",
       "    }\n",
       "</style>\n",
       "<table border=\"1\" class=\"dataframe\">\n",
       "  <thead>\n",
       "    <tr style=\"text-align: right;\">\n",
       "      <th>Collision Type Description</th>\n",
       "      <th>Front to Rear</th>\n",
       "      <th>HEAD-ON</th>\n",
       "      <th>SIDESWIPE - SAME DIRECTION</th>\n",
       "    </tr>\n",
       "    <tr>\n",
       "      <th>Hit and Run</th>\n",
       "      <th></th>\n",
       "      <th></th>\n",
       "      <th></th>\n",
       "    </tr>\n",
       "  </thead>\n",
       "  <tbody>\n",
       "    <tr>\n",
       "      <th>N</th>\n",
       "      <td>0.715736</td>\n",
       "      <td>0.042001</td>\n",
       "      <td>0.242263</td>\n",
       "    </tr>\n",
       "    <tr>\n",
       "      <th>Y</th>\n",
       "      <td>0.588562</td>\n",
       "      <td>0.030794</td>\n",
       "      <td>0.380644</td>\n",
       "    </tr>\n",
       "  </tbody>\n",
       "</table>\n",
       "</div>"
      ],
      "text/plain": [
       "Collision Type Description  Front to Rear   HEAD-ON  \\\n",
       "Hit and Run                                           \n",
       "N                                0.715736  0.042001   \n",
       "Y                                0.588562  0.030794   \n",
       "\n",
       "Collision Type Description  SIDESWIPE - SAME DIRECTION  \n",
       "Hit and Run                                             \n",
       "N                                             0.242263  \n",
       "Y                                             0.380644  "
      ]
     },
     "execution_count": 26,
     "metadata": {},
     "output_type": "execute_result"
    }
   ],
   "source": [
    "pd.crosstab(crashes['Hit and Run'], crashes['Collision Type Description'], normalize='index')"
   ]
  },
  {
   "cell_type": "code",
   "execution_count": 34,
   "metadata": {},
   "outputs": [
    {
     "data": {
      "image/png": "[encoded data removed]",
      "text/plain": [
       "<Figure size 432x288 with 1 Axes>"
      ]
     },
     "metadata": {
      "needs_background": "light"
     },
     "output_type": "display_data"
    }
   ],
   "source": [
    "pd.crosstab(crashes['Hit and Run'],\n",
    "            crashes['Collision Type Description'], \n",
    "            normalize='index').plot(kind = 'bar', \n",
    "                                    edgecolor = 'black', \n",
    "                                    width = 0.75)\n",
    "plt.ylabel('Proportion')\n",
    "plt.xlim(-0.625, 5)\n",
    "plt.legend(loc = 'right');"
   ]
  },
  {
   "cell_type": "code",
   "execution_count": 33,
   "metadata": {},
   "outputs": [
    {
     "data": {
      "image/png": "[encoded data removed]",
      "text/plain": [
       "<Figure size 432x288 with 1 Axes>"
      ]
     },
     "metadata": {
      "needs_background": "light"
     },
     "output_type": "display_data"
    }
   ],
   "source": [
    "pd.crosstab(crashes['Hit and Run'], \n",
    "            crashes['Collision Type Description'], \n",
    "            normalize='index').plot(kind = 'bar', \n",
    "                                    edgecolor = 'black', \n",
    "                                    width = 0.75,\n",
    "                                    stacked = True)\n",
    "plt.ylabel('Proportion')\n",
    "plt.xlim(-0.625, 5)\n",
    "plt.legend(loc = 'right');"
   ]
  },
  {
   "cell_type": "code",
   "execution_count": null,
   "metadata": {},
   "outputs": [],
   "source": []
  }
 ],
 "metadata": {
  "kernelspec": {
   "display_name": "Python 3",
   "language": "python",
   "name": "python3"
  },
  "language_info": {
   "codemirror_mode": {
    "name": "ipython",
    "version": 3
   },
   "file_extension": ".py",
   "mimetype": "text/x-python",
   "name": "python",
   "nbconvert_exporter": "python",
   "pygments_lexer": "ipython3",
   "version": "3.7.6"
  }
 },
 "nbformat": 4,
 "nbformat_minor": 4
}
